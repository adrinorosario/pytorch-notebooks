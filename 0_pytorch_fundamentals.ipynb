{
  "nbformat": 4,
  "nbformat_minor": 0,
  "metadata": {
    "colab": {
      "provenance": [],
      "gpuType": "T4",
      "authorship_tag": "ABX9TyNsp5d0VRtswnyJdpSJBmHk",
      "include_colab_link": true
    },
    "kernelspec": {
      "name": "python3",
      "display_name": "Python 3"
    },
    "language_info": {
      "name": "python"
    },
    "accelerator": "GPU"
  },
  "cells": [
    {
      "cell_type": "markdown",
      "metadata": {
        "id": "view-in-github",
        "colab_type": "text"
      },
      "source": [
        "<a href=\"https://colab.research.google.com/github/adrinorosario/pytorch-notebooks/blob/main/0_pytorch_fundamentals.ipynb\" target=\"_parent\"><img src=\"https://colab.research.google.com/assets/colab-badge.svg\" alt=\"Open In Colab\"/></a>"
      ]
    },
    {
      "cell_type": "markdown",
      "source": [
        "#PyTorch Fundamentals"
      ],
      "metadata": {
        "id": "sRQjKNsUcJT4"
      }
    },
    {
      "cell_type": "code",
      "execution_count": null,
      "metadata": {
        "colab": {
          "base_uri": "https://localhost:8080/"
        },
        "id": "3gwBzcKtbNmv",
        "outputId": "e5a18c4c-f4a8-4eb3-ca7a-62c1902622f7"
      },
      "outputs": [
        {
          "output_type": "stream",
          "name": "stdout",
          "text": [
            "Mon Oct  7 11:29:44 2024       \n",
            "+---------------------------------------------------------------------------------------+\n",
            "| NVIDIA-SMI 535.104.05             Driver Version: 535.104.05   CUDA Version: 12.2     |\n",
            "|-----------------------------------------+----------------------+----------------------+\n",
            "| GPU  Name                 Persistence-M | Bus-Id        Disp.A | Volatile Uncorr. ECC |\n",
            "| Fan  Temp   Perf          Pwr:Usage/Cap |         Memory-Usage | GPU-Util  Compute M. |\n",
            "|                                         |                      |               MIG M. |\n",
            "|=========================================+======================+======================|\n",
            "|   0  Tesla T4                       Off | 00000000:00:04.0 Off |                    0 |\n",
            "| N/A   35C    P8              11W /  70W |      0MiB / 15360MiB |      0%      Default |\n",
            "|                                         |                      |                  N/A |\n",
            "+-----------------------------------------+----------------------+----------------------+\n",
            "                                                                                         \n",
            "+---------------------------------------------------------------------------------------+\n",
            "| Processes:                                                                            |\n",
            "|  GPU   GI   CI        PID   Type   Process name                            GPU Memory |\n",
            "|        ID   ID                                                             Usage      |\n",
            "|=======================================================================================|\n",
            "|  No running processes found                                                           |\n",
            "+---------------------------------------------------------------------------------------+\n"
          ]
        }
      ],
      "source": [
        "!nvidia-smi"
      ]
    },
    {
      "cell_type": "code",
      "source": [
        "import torch\n",
        "import pandas as pd\n",
        "import numpy as np\n",
        "import matplotlib.pyplot as plt\n",
        "\n",
        "print(torch.__version__)"
      ],
      "metadata": {
        "colab": {
          "base_uri": "https://localhost:8080/"
        },
        "id": "IqBzhCMvclVi",
        "outputId": "a8f239dc-8fbf-41b7-d23b-1a4c38131089"
      },
      "execution_count": null,
      "outputs": [
        {
          "output_type": "stream",
          "name": "stdout",
          "text": [
            "2.4.1+cu121\n"
          ]
        }
      ]
    },
    {
      "cell_type": "markdown",
      "source": [
        "## Introduction to Tensors\n",
        "\n",
        "### Creating Tensors"
      ],
      "metadata": {
        "id": "iKQPIFC_cpH5"
      }
    },
    {
      "cell_type": "code",
      "source": [
        "#scalar\n",
        "scalar = torch.tensor(7)\n",
        "print(scalar)\n",
        "print(scalar.ndim)\n",
        "scalar.item()"
      ],
      "metadata": {
        "colab": {
          "base_uri": "https://localhost:8080/"
        },
        "id": "s2yQE3NUegOr",
        "outputId": "c5319f81-a1d0-4660-b256-7a0ea3802c95"
      },
      "execution_count": null,
      "outputs": [
        {
          "output_type": "stream",
          "name": "stdout",
          "text": [
            "tensor(7)\n",
            "0\n"
          ]
        },
        {
          "output_type": "execute_result",
          "data": {
            "text/plain": [
              "7"
            ]
          },
          "metadata": {},
          "execution_count": 3
        }
      ]
    },
    {
      "cell_type": "code",
      "source": [
        "#Vector\n",
        "vector = torch.tensor([7, 7])\n",
        "print(vector.ndim)\n",
        "vector.shape"
      ],
      "metadata": {
        "colab": {
          "base_uri": "https://localhost:8080/"
        },
        "id": "FGcgLSpVfauR",
        "outputId": "ba8ac9a1-f788-440f-fb28-ad5674e7cb2a"
      },
      "execution_count": null,
      "outputs": [
        {
          "output_type": "stream",
          "name": "stdout",
          "text": [
            "1\n"
          ]
        },
        {
          "output_type": "execute_result",
          "data": {
            "text/plain": [
              "torch.Size([2])"
            ]
          },
          "metadata": {},
          "execution_count": 4
        }
      ]
    },
    {
      "cell_type": "code",
      "source": [
        "#Matrix\n",
        "MATRIX = torch.tensor([[5,3], [4, 2]])\n",
        "MATRIX"
      ],
      "metadata": {
        "colab": {
          "base_uri": "https://localhost:8080/"
        },
        "id": "qTWHBRWFfnNJ",
        "outputId": "af0716bd-eaa2-4453-c0af-45764be3c41c"
      },
      "execution_count": null,
      "outputs": [
        {
          "output_type": "execute_result",
          "data": {
            "text/plain": [
              "tensor([[5, 3],\n",
              "        [4, 2]])"
            ]
          },
          "metadata": {},
          "execution_count": 5
        }
      ]
    },
    {
      "cell_type": "code",
      "source": [
        "MATRIX.ndim"
      ],
      "metadata": {
        "colab": {
          "base_uri": "https://localhost:8080/"
        },
        "id": "OK7sxZC1gqVu",
        "outputId": "d8f346ee-c178-4bae-fccb-87ac5cd482c8"
      },
      "execution_count": null,
      "outputs": [
        {
          "output_type": "execute_result",
          "data": {
            "text/plain": [
              "2"
            ]
          },
          "metadata": {},
          "execution_count": 6
        }
      ]
    },
    {
      "cell_type": "code",
      "source": [
        "MATRIX[0]"
      ],
      "metadata": {
        "colab": {
          "base_uri": "https://localhost:8080/"
        },
        "id": "5_TVvLC2grkm",
        "outputId": "077571e8-0560-464f-a59f-7a4ad196a5ed"
      },
      "execution_count": null,
      "outputs": [
        {
          "output_type": "execute_result",
          "data": {
            "text/plain": [
              "tensor([5, 3])"
            ]
          },
          "metadata": {},
          "execution_count": 7
        }
      ]
    },
    {
      "cell_type": "code",
      "source": [
        "MATRIX.shape"
      ],
      "metadata": {
        "colab": {
          "base_uri": "https://localhost:8080/"
        },
        "id": "7RPWw0aqgtZI",
        "outputId": "a31f9b2a-be1a-42d2-a804-7275bb30edb5"
      },
      "execution_count": null,
      "outputs": [
        {
          "output_type": "execute_result",
          "data": {
            "text/plain": [
              "torch.Size([2, 2])"
            ]
          },
          "metadata": {},
          "execution_count": 8
        }
      ]
    },
    {
      "cell_type": "code",
      "source": [
        "#Tensor\n",
        "TENSOR = torch.tensor([[[1,2], [4,5], [7,8]],\n",
        "                       [[11,12], [14,15], [17,19]],\n",
        "                       [[1, 3], [31, 1], [13,331]],\n",
        "                       [[1, 2], [12, 13], [1223, 2]]])\n",
        "TENSOR"
      ],
      "metadata": {
        "colab": {
          "base_uri": "https://localhost:8080/"
        },
        "id": "YsGblJf3gzBo",
        "outputId": "8536ba31-e36b-44fd-9f6e-a0dd9e8f8917"
      },
      "execution_count": null,
      "outputs": [
        {
          "output_type": "execute_result",
          "data": {
            "text/plain": [
              "tensor([[[   1,    2],\n",
              "         [   4,    5],\n",
              "         [   7,    8]],\n",
              "\n",
              "        [[  11,   12],\n",
              "         [  14,   15],\n",
              "         [  17,   19]],\n",
              "\n",
              "        [[   1,    3],\n",
              "         [  31,    1],\n",
              "         [  13,  331]],\n",
              "\n",
              "        [[   1,    2],\n",
              "         [  12,   13],\n",
              "         [1223,    2]]])"
            ]
          },
          "metadata": {},
          "execution_count": 9
        }
      ]
    },
    {
      "cell_type": "code",
      "source": [
        "TENSOR.ndim"
      ],
      "metadata": {
        "colab": {
          "base_uri": "https://localhost:8080/"
        },
        "id": "2rUVGsA1iRzq",
        "outputId": "1f9d5930-68a9-4731-b651-f9749be979b8"
      },
      "execution_count": null,
      "outputs": [
        {
          "output_type": "execute_result",
          "data": {
            "text/plain": [
              "3"
            ]
          },
          "metadata": {},
          "execution_count": 10
        }
      ]
    },
    {
      "cell_type": "code",
      "source": [
        "TENSOR.shape"
      ],
      "metadata": {
        "colab": {
          "base_uri": "https://localhost:8080/"
        },
        "id": "j4eo4zXOipVX",
        "outputId": "8f8c18f4-e8cf-40cf-bec2-f9f923c2c23b"
      },
      "execution_count": null,
      "outputs": [
        {
          "output_type": "execute_result",
          "data": {
            "text/plain": [
              "torch.Size([4, 3, 2])"
            ]
          },
          "metadata": {},
          "execution_count": 11
        }
      ]
    },
    {
      "cell_type": "code",
      "source": [
        "TENSOR[0]"
      ],
      "metadata": {
        "colab": {
          "base_uri": "https://localhost:8080/"
        },
        "id": "Qo-nOfuwiqiW",
        "outputId": "ac5e12d7-fdd9-4685-999f-801a2a9ed81f"
      },
      "execution_count": null,
      "outputs": [
        {
          "output_type": "execute_result",
          "data": {
            "text/plain": [
              "tensor([[1, 2],\n",
              "        [4, 5],\n",
              "        [7, 8]])"
            ]
          },
          "metadata": {},
          "execution_count": 12
        }
      ]
    },
    {
      "cell_type": "code",
      "source": [
        "TENSOR[0][1]"
      ],
      "metadata": {
        "colab": {
          "base_uri": "https://localhost:8080/"
        },
        "id": "dRJn7XZ2i0wV",
        "outputId": "6ab0a717-4d22-4b75-f85e-8ab03aca8ee9"
      },
      "execution_count": null,
      "outputs": [
        {
          "output_type": "execute_result",
          "data": {
            "text/plain": [
              "tensor([4, 5])"
            ]
          },
          "metadata": {},
          "execution_count": 13
        }
      ]
    },
    {
      "cell_type": "code",
      "source": [
        "TENSOR[1][2][0]"
      ],
      "metadata": {
        "colab": {
          "base_uri": "https://localhost:8080/"
        },
        "id": "sx27JOALi5MH",
        "outputId": "97773285-fa6f-437b-ae34-5b9043e771fe"
      },
      "execution_count": null,
      "outputs": [
        {
          "output_type": "execute_result",
          "data": {
            "text/plain": [
              "tensor(17)"
            ]
          },
          "metadata": {},
          "execution_count": 14
        }
      ]
    },
    {
      "cell_type": "markdown",
      "source": [
        "### Random Tensors\n",
        "\n",
        "Random tensors are important because the way many neural networks learn is that they start with tensors full of random numbers and adjust those random numbers to better understand the data\n",
        "\n",
        "`Start with random numbers -> Look at data -> Update random numbers -> Look at data -> Update random numbers`"
      ],
      "metadata": {
        "id": "gM8swX0ti8YJ"
      }
    },
    {
      "cell_type": "code",
      "source": [
        "#Create random tensor of size() or shape()\n",
        "random_tensor = torch.rand(3, 4, 5, dtype=float)\n",
        "random_tensor"
      ],
      "metadata": {
        "colab": {
          "base_uri": "https://localhost:8080/"
        },
        "id": "AXObqsY-mCmz",
        "outputId": "5791d932-00e7-464e-a6d7-cf7b1492ccd6"
      },
      "execution_count": null,
      "outputs": [
        {
          "output_type": "execute_result",
          "data": {
            "text/plain": [
              "tensor([[[0.7761, 0.8608, 0.1004, 0.5921, 0.5394],\n",
              "         [0.1564, 0.1477, 0.6926, 0.4510, 0.3454],\n",
              "         [0.4409, 0.3907, 0.1904, 0.5324, 0.5773],\n",
              "         [0.2412, 0.4417, 0.3922, 0.7849, 0.4086]],\n",
              "\n",
              "        [[0.2007, 0.5906, 0.6062, 0.2820, 0.8035],\n",
              "         [0.8577, 0.2463, 0.7846, 0.7726, 0.0772],\n",
              "         [0.6902, 0.8788, 0.9598, 0.0717, 0.5538],\n",
              "         [0.0441, 0.7811, 0.7455, 0.3383, 0.9378]],\n",
              "\n",
              "        [[0.8361, 0.2726, 0.0191, 0.8149, 0.5374],\n",
              "         [0.6516, 0.4727, 0.2830, 0.8601, 0.6963],\n",
              "         [0.8432, 0.0412, 0.4680, 0.9296, 0.5863],\n",
              "         [0.0555, 0.0561, 0.8282, 0.0756, 0.0458]]], dtype=torch.float64)"
            ]
          },
          "metadata": {},
          "execution_count": 15
        }
      ]
    },
    {
      "cell_type": "code",
      "source": [
        "random_tensor.ndim"
      ],
      "metadata": {
        "colab": {
          "base_uri": "https://localhost:8080/"
        },
        "id": "a8UacJXTmUKE",
        "outputId": "792dba69-e039-44a2-9c43-b26ffd9c76e8"
      },
      "execution_count": null,
      "outputs": [
        {
          "output_type": "execute_result",
          "data": {
            "text/plain": [
              "3"
            ]
          },
          "metadata": {},
          "execution_count": 16
        }
      ]
    },
    {
      "cell_type": "code",
      "source": [
        "random_tensor.shape"
      ],
      "metadata": {
        "colab": {
          "base_uri": "https://localhost:8080/"
        },
        "id": "gbqLLz-XmjdU",
        "outputId": "d8782e94-7cee-41f6-e149-32cd32f54a0b"
      },
      "execution_count": null,
      "outputs": [
        {
          "output_type": "execute_result",
          "data": {
            "text/plain": [
              "torch.Size([3, 4, 5])"
            ]
          },
          "metadata": {},
          "execution_count": 17
        }
      ]
    },
    {
      "cell_type": "code",
      "source": [
        "#Random tensor with shape similar to an image tensor\n",
        "random_image_size_tensor = torch.rand(size=(453, 413, 3)) # height, width, color channels (R,G,B)\n",
        "random_image_size_tensor"
      ],
      "metadata": {
        "colab": {
          "base_uri": "https://localhost:8080/"
        },
        "id": "sn8H3e6wm2ga",
        "outputId": "6bb8634f-3198-4f63-c883-9146bea4ef4c"
      },
      "execution_count": null,
      "outputs": [
        {
          "output_type": "execute_result",
          "data": {
            "text/plain": [
              "tensor([[[0.9928, 0.2879, 0.4258],\n",
              "         [0.2613, 0.0878, 0.6542],\n",
              "         [0.7549, 0.9564, 0.8425],\n",
              "         ...,\n",
              "         [0.8734, 0.0708, 0.9670],\n",
              "         [0.6528, 0.8912, 0.7678],\n",
              "         [0.3298, 0.7915, 0.1912]],\n",
              "\n",
              "        [[0.7660, 0.8822, 0.5622],\n",
              "         [0.3777, 0.8801, 0.8483],\n",
              "         [0.0606, 0.4710, 0.7136],\n",
              "         ...,\n",
              "         [0.7239, 0.6135, 0.9045],\n",
              "         [0.8312, 0.1161, 0.0402],\n",
              "         [0.6504, 0.4120, 0.6067]],\n",
              "\n",
              "        [[0.9941, 0.6604, 0.6480],\n",
              "         [0.4022, 0.5152, 0.7378],\n",
              "         [0.3947, 0.8639, 0.9577],\n",
              "         ...,\n",
              "         [0.2406, 0.5760, 0.2039],\n",
              "         [0.5239, 0.3425, 0.3480],\n",
              "         [0.8493, 0.4768, 0.4348]],\n",
              "\n",
              "        ...,\n",
              "\n",
              "        [[0.2025, 0.4168, 0.7616],\n",
              "         [0.8712, 0.8270, 0.9936],\n",
              "         [0.5042, 0.0460, 0.2015],\n",
              "         ...,\n",
              "         [0.9239, 0.3512, 0.5101],\n",
              "         [0.5205, 0.2521, 0.3125],\n",
              "         [0.7969, 0.8151, 0.8763]],\n",
              "\n",
              "        [[0.4586, 0.1685, 0.8667],\n",
              "         [0.3963, 0.7254, 0.3214],\n",
              "         [0.1013, 0.8244, 0.7330],\n",
              "         ...,\n",
              "         [0.1361, 0.8496, 0.8088],\n",
              "         [0.4508, 0.8676, 0.7156],\n",
              "         [0.8159, 0.3370, 0.3494]],\n",
              "\n",
              "        [[0.4778, 0.5290, 0.9751],\n",
              "         [0.6233, 0.4110, 0.6773],\n",
              "         [0.7610, 0.8609, 0.0820],\n",
              "         ...,\n",
              "         [0.0032, 0.2762, 0.6741],\n",
              "         [0.7138, 0.6361, 0.4293],\n",
              "         [0.0295, 0.5935, 0.5074]]])"
            ]
          },
          "metadata": {},
          "execution_count": 18
        }
      ]
    },
    {
      "cell_type": "code",
      "source": [
        "random_image_size_tensor.ndim, random_image_size_tensor.shape"
      ],
      "metadata": {
        "colab": {
          "base_uri": "https://localhost:8080/"
        },
        "id": "G9l5mIaAnS44",
        "outputId": "3142f6b5-66f1-4585-9a13-3b95b9ba3b51"
      },
      "execution_count": null,
      "outputs": [
        {
          "output_type": "execute_result",
          "data": {
            "text/plain": [
              "(3, torch.Size([453, 413, 3]))"
            ]
          },
          "metadata": {},
          "execution_count": 19
        }
      ]
    },
    {
      "cell_type": "markdown",
      "source": [
        "### Zeros and Ones"
      ],
      "metadata": {
        "id": "pvrkx0IhnhFz"
      }
    },
    {
      "cell_type": "code",
      "source": [
        "zeros = torch.zeros(3, 4, 5)\n",
        "zeros"
      ],
      "metadata": {
        "colab": {
          "base_uri": "https://localhost:8080/"
        },
        "id": "yjZMMkPaoccK",
        "outputId": "8128f9e2-6912-4770-9680-4847757e5f3c"
      },
      "execution_count": null,
      "outputs": [
        {
          "output_type": "execute_result",
          "data": {
            "text/plain": [
              "tensor([[[0., 0., 0., 0., 0.],\n",
              "         [0., 0., 0., 0., 0.],\n",
              "         [0., 0., 0., 0., 0.],\n",
              "         [0., 0., 0., 0., 0.]],\n",
              "\n",
              "        [[0., 0., 0., 0., 0.],\n",
              "         [0., 0., 0., 0., 0.],\n",
              "         [0., 0., 0., 0., 0.],\n",
              "         [0., 0., 0., 0., 0.]],\n",
              "\n",
              "        [[0., 0., 0., 0., 0.],\n",
              "         [0., 0., 0., 0., 0.],\n",
              "         [0., 0., 0., 0., 0.],\n",
              "         [0., 0., 0., 0., 0.]]])"
            ]
          },
          "metadata": {},
          "execution_count": 20
        }
      ]
    },
    {
      "cell_type": "code",
      "source": [
        "zeros * random_tensor"
      ],
      "metadata": {
        "colab": {
          "base_uri": "https://localhost:8080/"
        },
        "id": "BxHzGTGpoqWl",
        "outputId": "a20fc85c-2e74-4746-d0a8-f9b735d7d07c"
      },
      "execution_count": null,
      "outputs": [
        {
          "output_type": "execute_result",
          "data": {
            "text/plain": [
              "tensor([[[0., 0., 0., 0., 0.],\n",
              "         [0., 0., 0., 0., 0.],\n",
              "         [0., 0., 0., 0., 0.],\n",
              "         [0., 0., 0., 0., 0.]],\n",
              "\n",
              "        [[0., 0., 0., 0., 0.],\n",
              "         [0., 0., 0., 0., 0.],\n",
              "         [0., 0., 0., 0., 0.],\n",
              "         [0., 0., 0., 0., 0.]],\n",
              "\n",
              "        [[0., 0., 0., 0., 0.],\n",
              "         [0., 0., 0., 0., 0.],\n",
              "         [0., 0., 0., 0., 0.],\n",
              "         [0., 0., 0., 0., 0.]]], dtype=torch.float64)"
            ]
          },
          "metadata": {},
          "execution_count": 21
        }
      ]
    },
    {
      "cell_type": "code",
      "source": [
        "ones = torch.ones(3, 4, 5)\n",
        "ones * random_tensor"
      ],
      "metadata": {
        "colab": {
          "base_uri": "https://localhost:8080/"
        },
        "id": "lxIhVoCeourt",
        "outputId": "3885f0ef-e1db-4783-cc20-73a8b6a80785"
      },
      "execution_count": null,
      "outputs": [
        {
          "output_type": "execute_result",
          "data": {
            "text/plain": [
              "tensor([[[0.7761, 0.8608, 0.1004, 0.5921, 0.5394],\n",
              "         [0.1564, 0.1477, 0.6926, 0.4510, 0.3454],\n",
              "         [0.4409, 0.3907, 0.1904, 0.5324, 0.5773],\n",
              "         [0.2412, 0.4417, 0.3922, 0.7849, 0.4086]],\n",
              "\n",
              "        [[0.2007, 0.5906, 0.6062, 0.2820, 0.8035],\n",
              "         [0.8577, 0.2463, 0.7846, 0.7726, 0.0772],\n",
              "         [0.6902, 0.8788, 0.9598, 0.0717, 0.5538],\n",
              "         [0.0441, 0.7811, 0.7455, 0.3383, 0.9378]],\n",
              "\n",
              "        [[0.8361, 0.2726, 0.0191, 0.8149, 0.5374],\n",
              "         [0.6516, 0.4727, 0.2830, 0.8601, 0.6963],\n",
              "         [0.8432, 0.0412, 0.4680, 0.9296, 0.5863],\n",
              "         [0.0555, 0.0561, 0.8282, 0.0756, 0.0458]]], dtype=torch.float64)"
            ]
          },
          "metadata": {},
          "execution_count": 22
        }
      ]
    },
    {
      "cell_type": "markdown",
      "source": [
        "### Creating a range of tensors and tensors-like"
      ],
      "metadata": {
        "id": "qXFE3IAjo_8D"
      }
    },
    {
      "cell_type": "code",
      "source": [
        "torch.arange(0, 10)"
      ],
      "metadata": {
        "colab": {
          "base_uri": "https://localhost:8080/"
        },
        "id": "qACz_lLGpr-1",
        "outputId": "19187143-6961-4a04-a688-912e7a0d49e1"
      },
      "execution_count": null,
      "outputs": [
        {
          "output_type": "execute_result",
          "data": {
            "text/plain": [
              "tensor([0, 1, 2, 3, 4, 5, 6, 7, 8, 9])"
            ]
          },
          "metadata": {},
          "execution_count": 23
        }
      ]
    },
    {
      "cell_type": "code",
      "source": [
        "torch.arange(start=0, end=1010, step=12)"
      ],
      "metadata": {
        "colab": {
          "base_uri": "https://localhost:8080/"
        },
        "id": "xszW3aJbp19o",
        "outputId": "4aeeb1f1-178a-491c-b25c-ea8e8dc45518"
      },
      "execution_count": null,
      "outputs": [
        {
          "output_type": "execute_result",
          "data": {
            "text/plain": [
              "tensor([   0,   12,   24,   36,   48,   60,   72,   84,   96,  108,  120,  132,\n",
              "         144,  156,  168,  180,  192,  204,  216,  228,  240,  252,  264,  276,\n",
              "         288,  300,  312,  324,  336,  348,  360,  372,  384,  396,  408,  420,\n",
              "         432,  444,  456,  468,  480,  492,  504,  516,  528,  540,  552,  564,\n",
              "         576,  588,  600,  612,  624,  636,  648,  660,  672,  684,  696,  708,\n",
              "         720,  732,  744,  756,  768,  780,  792,  804,  816,  828,  840,  852,\n",
              "         864,  876,  888,  900,  912,  924,  936,  948,  960,  972,  984,  996,\n",
              "        1008])"
            ]
          },
          "metadata": {},
          "execution_count": 24
        }
      ]
    },
    {
      "cell_type": "code",
      "source": [
        "# Creating tensors-like\n",
        "random_tensor.shape\n",
        "new_random_tensor = torch.zeros_like(input=random_tensor)\n",
        "new_random_tensor"
      ],
      "metadata": {
        "colab": {
          "base_uri": "https://localhost:8080/"
        },
        "id": "T8YxsWdAqTX8",
        "outputId": "bef9abb7-5049-466b-bf63-b9412ffe92ea"
      },
      "execution_count": null,
      "outputs": [
        {
          "output_type": "execute_result",
          "data": {
            "text/plain": [
              "tensor([[[0., 0., 0., 0., 0.],\n",
              "         [0., 0., 0., 0., 0.],\n",
              "         [0., 0., 0., 0., 0.],\n",
              "         [0., 0., 0., 0., 0.]],\n",
              "\n",
              "        [[0., 0., 0., 0., 0.],\n",
              "         [0., 0., 0., 0., 0.],\n",
              "         [0., 0., 0., 0., 0.],\n",
              "         [0., 0., 0., 0., 0.]],\n",
              "\n",
              "        [[0., 0., 0., 0., 0.],\n",
              "         [0., 0., 0., 0., 0.],\n",
              "         [0., 0., 0., 0., 0.],\n",
              "         [0., 0., 0., 0., 0.]]], dtype=torch.float64)"
            ]
          },
          "metadata": {},
          "execution_count": 25
        }
      ]
    },
    {
      "cell_type": "markdown",
      "source": [
        "### Tensor Datatypes\n",
        "\n",
        "**Note**: Tensor datatypes is one of the 3 big isssues you'll run into with PyTorch & Deep Learning\n",
        "\n",
        "1. Tensors are not the right datatype\n",
        "2. Tensors are not the right shape\n",
        "3. Tensors are not on the right device"
      ],
      "metadata": {
        "id": "vjaTYFJ2qoI6"
      }
    },
    {
      "cell_type": "code",
      "source": [
        "float_32_tensor = torch.tensor([2.3, 31.2, 4.2],\n",
        "                               dtype=torch.float64,\n",
        "                               device=None,\n",
        "                               requires_grad=False) # to track the gradients of a tensor when it goes through certain numerical calculations\n",
        "float_32_tensor.dtype"
      ],
      "metadata": {
        "colab": {
          "base_uri": "https://localhost:8080/"
        },
        "id": "MMZAGubnNcdI",
        "outputId": "965630a7-43cb-4822-d87d-cb83eae6926f"
      },
      "execution_count": null,
      "outputs": [
        {
          "output_type": "execute_result",
          "data": {
            "text/plain": [
              "torch.float64"
            ]
          },
          "metadata": {},
          "execution_count": 26
        }
      ]
    },
    {
      "cell_type": "code",
      "source": [
        "float_16_tensor = float_32_tensor.type(torch.float16)\n",
        "float_16_tensor.dtype"
      ],
      "metadata": {
        "colab": {
          "base_uri": "https://localhost:8080/"
        },
        "id": "aDcxwefZNs2o",
        "outputId": "5f1620c7-2aef-4b42-be30-cafcb71bbacc"
      },
      "execution_count": null,
      "outputs": [
        {
          "output_type": "execute_result",
          "data": {
            "text/plain": [
              "torch.float16"
            ]
          },
          "metadata": {},
          "execution_count": 27
        }
      ]
    },
    {
      "cell_type": "code",
      "source": [
        "float_16_tensor * float_32_tensor"
      ],
      "metadata": {
        "colab": {
          "base_uri": "https://localhost:8080/"
        },
        "id": "BLYOV2azQItV",
        "outputId": "a4077fa9-d4c7-4241-d42a-6719568026d6"
      },
      "execution_count": null,
      "outputs": [
        {
          "output_type": "execute_result",
          "data": {
            "text/plain": [
              "tensor([  5.2918, 973.5375,  17.6367], dtype=torch.float64)"
            ]
          },
          "metadata": {},
          "execution_count": 28
        }
      ]
    },
    {
      "cell_type": "code",
      "source": [
        "int32_tensor  = float_32_tensor.type(torch.int32)\n",
        "int32_tensor"
      ],
      "metadata": {
        "colab": {
          "base_uri": "https://localhost:8080/"
        },
        "id": "fgdMvPSNQZUh",
        "outputId": "905d4ec6-d366-4bd8-9fc1-8e464006bff9"
      },
      "execution_count": null,
      "outputs": [
        {
          "output_type": "execute_result",
          "data": {
            "text/plain": [
              "tensor([ 2, 31,  4], dtype=torch.int32)"
            ]
          },
          "metadata": {},
          "execution_count": 29
        }
      ]
    },
    {
      "cell_type": "code",
      "source": [
        "float_32_tensor * int32_tensor"
      ],
      "metadata": {
        "colab": {
          "base_uri": "https://localhost:8080/"
        },
        "id": "Q_GpcrUwQwyF",
        "outputId": "21ba8203-5447-424a-e062-239d1ca2c2e6"
      },
      "execution_count": null,
      "outputs": [
        {
          "output_type": "execute_result",
          "data": {
            "text/plain": [
              "tensor([  4.6000, 967.2000,  16.8000], dtype=torch.float64)"
            ]
          },
          "metadata": {},
          "execution_count": 30
        }
      ]
    },
    {
      "cell_type": "markdown",
      "source": [
        "### Getting information from tensors\n",
        "\n",
        "1. Tensors are not the right datatype -  to get the datatype use `tensor.dtype`\n",
        "2. Tensors are not the right shape - to get the shape use `tensor.shape`\n",
        "3. Tensors are not on the right device - to get the device use `tensor.device`"
      ],
      "metadata": {
        "id": "ghcz2e-QQ0IB"
      }
    },
    {
      "cell_type": "code",
      "source": [
        "some_tensor = torch.rand(3, 4, dtype=torch.float16)\n",
        "some_tensor"
      ],
      "metadata": {
        "colab": {
          "base_uri": "https://localhost:8080/"
        },
        "id": "VX_C0J40SFT6",
        "outputId": "8e037408-9f77-4888-cfff-75a841892110"
      },
      "execution_count": null,
      "outputs": [
        {
          "output_type": "execute_result",
          "data": {
            "text/plain": [
              "tensor([[0.1646, 0.2334, 0.2720, 0.4951],\n",
              "        [0.5659, 0.2837, 0.6265, 0.8262],\n",
              "        [0.4585, 0.3350, 0.4204, 0.6411]], dtype=torch.float16)"
            ]
          },
          "metadata": {},
          "execution_count": 31
        }
      ]
    },
    {
      "cell_type": "code",
      "source": [
        "some_tensor.dtype, some_tensor.shape, some_tensor.device, some_tensor.size()\n",
        "some_tensor.to(\"cuda\")"
      ],
      "metadata": {
        "colab": {
          "base_uri": "https://localhost:8080/"
        },
        "id": "k4Vmyi8hSNNl",
        "outputId": "ff534744-7044-4779-87de-14e247cab9ee"
      },
      "execution_count": null,
      "outputs": [
        {
          "output_type": "execute_result",
          "data": {
            "text/plain": [
              "tensor([[0.1646, 0.2334, 0.2720, 0.4951],\n",
              "        [0.5659, 0.2837, 0.6265, 0.8262],\n",
              "        [0.4585, 0.3350, 0.4204, 0.6411]], device='cuda:0',\n",
              "       dtype=torch.float16)"
            ]
          },
          "metadata": {},
          "execution_count": 32
        }
      ]
    },
    {
      "cell_type": "markdown",
      "source": [
        "### Manipulating tensors (tensor operations)\n",
        "\n",
        "Tensor operations include:\n",
        "* Addition\n",
        "* Subtraction\n",
        "* Multiplication\n",
        "* Division\n",
        "* Matrix Multiplication"
      ],
      "metadata": {
        "id": "C8nLchIGSY60"
      }
    },
    {
      "cell_type": "code",
      "source": [
        "tensor = torch.tensor([1, 2, 3])\n",
        "tensor + 10"
      ],
      "metadata": {
        "colab": {
          "base_uri": "https://localhost:8080/"
        },
        "id": "Z-fh_aNtT-MB",
        "outputId": "775f7fd5-5ce0-4d97-9a66-39e3193f7baa"
      },
      "execution_count": null,
      "outputs": [
        {
          "output_type": "execute_result",
          "data": {
            "text/plain": [
              "tensor([11, 12, 13])"
            ]
          },
          "metadata": {},
          "execution_count": 33
        }
      ]
    },
    {
      "cell_type": "code",
      "source": [
        "tensor * 10\n",
        "torch.mul(tensor, 10)"
      ],
      "metadata": {
        "colab": {
          "base_uri": "https://localhost:8080/"
        },
        "id": "IIEXXa1NUdOc",
        "outputId": "f9ba3071-2da7-4bfd-8f42-9ad3f73bafeb"
      },
      "execution_count": null,
      "outputs": [
        {
          "output_type": "execute_result",
          "data": {
            "text/plain": [
              "tensor([10, 20, 30])"
            ]
          },
          "metadata": {},
          "execution_count": 34
        }
      ]
    },
    {
      "cell_type": "code",
      "source": [
        "tensor - 10"
      ],
      "metadata": {
        "colab": {
          "base_uri": "https://localhost:8080/"
        },
        "id": "rYWFN-X8UhmC",
        "outputId": "3cb94862-7175-4da2-ed4b-9ab620138f87"
      },
      "execution_count": null,
      "outputs": [
        {
          "output_type": "execute_result",
          "data": {
            "text/plain": [
              "tensor([-9, -8, -7])"
            ]
          },
          "metadata": {},
          "execution_count": 35
        }
      ]
    },
    {
      "cell_type": "code",
      "source": [
        "torch.add(tensor, 10)"
      ],
      "metadata": {
        "colab": {
          "base_uri": "https://localhost:8080/"
        },
        "id": "E680cTAfUuSM",
        "outputId": "fc4f2de9-6483-48b9-ce3a-cb31a27527a4"
      },
      "execution_count": null,
      "outputs": [
        {
          "output_type": "execute_result",
          "data": {
            "text/plain": [
              "tensor([11, 12, 13])"
            ]
          },
          "metadata": {},
          "execution_count": 36
        }
      ]
    },
    {
      "cell_type": "markdown",
      "source": [
        "### Matrix multiplication\n",
        "\n",
        "Two main ways of performing matrix multiplication in neural networks and deep learning:\n",
        "\n",
        "1. Element-wise multiplication\n",
        "2. Matrix multiplication (dot product)\n",
        "\n",
        "There are two main rules that performing matrix multiplication needs to satisfy:\n",
        "1. The **inner dimensions** must match\n",
        "* `(3, 2) @ (3, 2)` won't work\n",
        "* `(2, 3) @ (3, 2)` will work\n",
        "* `(3, 2) @ (2, 3)` will work\n",
        "2. The resulting matrix has the shape of the **outer dimensions**:\n",
        "* `(2, 3) @ (3, 2)` -> `(2, 2)`\n",
        "* `(3, 2) @ (2, 3)` -> `(3, 3)`"
      ],
      "metadata": {
        "id": "5koP8-NJVGqE"
      }
    },
    {
      "cell_type": "code",
      "source": [
        "torch.rand(2, 3).shape, torch.rand(3, 2).shape\n",
        "torch.matmul(torch.rand(2, 3), torch.rand(3, 2))"
      ],
      "metadata": {
        "colab": {
          "base_uri": "https://localhost:8080/"
        },
        "id": "ufVIP2M0bYf-",
        "outputId": "2e9b8503-34dc-4c75-a982-28530577ea77"
      },
      "execution_count": null,
      "outputs": [
        {
          "output_type": "execute_result",
          "data": {
            "text/plain": [
              "tensor([[0.2469, 0.5035],\n",
              "        [0.3938, 0.7663]])"
            ]
          },
          "metadata": {},
          "execution_count": 37
        }
      ]
    },
    {
      "cell_type": "code",
      "source": [
        "# Element wise\n",
        "print(tensor, \"*\", tensor)\n",
        "print(f\"Equals: {tensor * tensor}\")"
      ],
      "metadata": {
        "colab": {
          "base_uri": "https://localhost:8080/"
        },
        "id": "pr-uTyLRXQMD",
        "outputId": "df0ff9e0-4690-4e8f-ba16-e4071737c46f"
      },
      "execution_count": null,
      "outputs": [
        {
          "output_type": "stream",
          "name": "stdout",
          "text": [
            "tensor([1, 2, 3]) * tensor([1, 2, 3])\n",
            "Equals: tensor([1, 4, 9])\n"
          ]
        }
      ]
    },
    {
      "cell_type": "code",
      "source": [
        "# Matrix multiplication\n",
        "torch.matmul(tensor, tensor)"
      ],
      "metadata": {
        "colab": {
          "base_uri": "https://localhost:8080/"
        },
        "id": "11tOSB-4XvMc",
        "outputId": "072bc6b4-9140-420e-d9f2-6e8fd0d94f20"
      },
      "execution_count": null,
      "outputs": [
        {
          "output_type": "execute_result",
          "data": {
            "text/plain": [
              "tensor(14)"
            ]
          },
          "metadata": {},
          "execution_count": 39
        }
      ]
    },
    {
      "cell_type": "code",
      "source": [
        "torch.matmul(int32_tensor, float_32_tensor.type(torch.int32))"
      ],
      "metadata": {
        "colab": {
          "base_uri": "https://localhost:8080/"
        },
        "id": "ViL7LK8kYKSI",
        "outputId": "e026755e-c6db-4281-b257-f4780307c975"
      },
      "execution_count": null,
      "outputs": [
        {
          "output_type": "execute_result",
          "data": {
            "text/plain": [
              "tensor(981, dtype=torch.int32)"
            ]
          },
          "metadata": {},
          "execution_count": 40
        }
      ]
    },
    {
      "cell_type": "code",
      "source": [
        "%%time\n",
        "value = 0\n",
        "for i in range(len(tensor)):\n",
        "  value += tensor[i] * tensor[i]\n",
        "\n",
        "print(value)"
      ],
      "metadata": {
        "colab": {
          "base_uri": "https://localhost:8080/"
        },
        "id": "yA98G5idYSgh",
        "outputId": "a39eb87d-6eed-4fcd-aee6-c24fbeb46ad7"
      },
      "execution_count": null,
      "outputs": [
        {
          "output_type": "stream",
          "name": "stdout",
          "text": [
            "tensor(14)\n",
            "CPU times: user 619 µs, sys: 906 µs, total: 1.52 ms\n",
            "Wall time: 1.26 ms\n"
          ]
        }
      ]
    },
    {
      "cell_type": "code",
      "source": [
        "%%time\n",
        "torch.matmul(tensor, tensor)"
      ],
      "metadata": {
        "colab": {
          "base_uri": "https://localhost:8080/"
        },
        "id": "Esjad74FZStT",
        "outputId": "b8f12abf-0202-47bb-8135-34b3ac1c0f27"
      },
      "execution_count": null,
      "outputs": [
        {
          "output_type": "stream",
          "name": "stdout",
          "text": [
            "CPU times: user 279 µs, sys: 0 ns, total: 279 µs\n",
            "Wall time: 256 µs\n"
          ]
        },
        {
          "output_type": "execute_result",
          "data": {
            "text/plain": [
              "tensor(14)"
            ]
          },
          "metadata": {},
          "execution_count": 42
        }
      ]
    },
    {
      "cell_type": "markdown",
      "source": [
        "### One of the most common errors in deep learning: shape errors"
      ],
      "metadata": {
        "id": "cytrIjuNZdoG"
      }
    },
    {
      "cell_type": "code",
      "source": [
        "# Shapes for matrix multiplication\n",
        "tensor_a = torch.tensor([[1, 2],\n",
        "                         [3, 4],\n",
        "                         [5, 6]])\n",
        "\n",
        "# tensor_b = torch.tensor([[7, 10, 9],\n",
        "#                          [11, 20, 10]])\n",
        "\n",
        "tensor_b = torch.tensor([[7, 10],\n",
        "                         [9, 11],\n",
        "                         [20, 10]])\n",
        "\n",
        "torch.mm(tensor_a, tensor_b)"
      ],
      "metadata": {
        "colab": {
          "base_uri": "https://localhost:8080/",
          "height": 180
        },
        "id": "OqOEDp-ddI15",
        "outputId": "205cbc70-5065-439a-c8f4-eec02b1e54a6"
      },
      "execution_count": null,
      "outputs": [
        {
          "output_type": "error",
          "ename": "RuntimeError",
          "evalue": "mat1 and mat2 shapes cannot be multiplied (3x2 and 3x2)",
          "traceback": [
            "\u001b[0;31m---------------------------------------------------------------------------\u001b[0m",
            "\u001b[0;31mRuntimeError\u001b[0m                              Traceback (most recent call last)",
            "\u001b[0;32m<ipython-input-43-c69f5d09b462>\u001b[0m in \u001b[0;36m<cell line: 13>\u001b[0;34m()\u001b[0m\n\u001b[1;32m     11\u001b[0m                          [20, 10]])\n\u001b[1;32m     12\u001b[0m \u001b[0;34m\u001b[0m\u001b[0m\n\u001b[0;32m---> 13\u001b[0;31m \u001b[0mtorch\u001b[0m\u001b[0;34m.\u001b[0m\u001b[0mmm\u001b[0m\u001b[0;34m(\u001b[0m\u001b[0mtensor_a\u001b[0m\u001b[0;34m,\u001b[0m \u001b[0mtensor_b\u001b[0m\u001b[0;34m)\u001b[0m\u001b[0;34m\u001b[0m\u001b[0;34m\u001b[0m\u001b[0m\n\u001b[0m",
            "\u001b[0;31mRuntimeError\u001b[0m: mat1 and mat2 shapes cannot be multiplied (3x2 and 3x2)"
          ]
        }
      ]
    },
    {
      "cell_type": "code",
      "source": [
        "print(f\"Original shape of tensor_a: {tensor_a.shape}\")\n",
        "print(f\"Original shape of tensor_b: {tensor_b.shape}\")"
      ],
      "metadata": {
        "colab": {
          "base_uri": "https://localhost:8080/"
        },
        "id": "5mhl6k3Uebem",
        "outputId": "be029deb-e225-485c-922d-b0f3694993e8"
      },
      "execution_count": null,
      "outputs": [
        {
          "output_type": "stream",
          "name": "stdout",
          "text": [
            "Original shape of tensor_a: torch.Size([3, 2])\n",
            "Original shape of tensor_b: torch.Size([3, 2])\n"
          ]
        }
      ]
    },
    {
      "cell_type": "markdown",
      "source": [
        "To fix the tensor shape issues, we can manipulate the shape of one of our tensors using a **transpose**.\n",
        "A **transpose** switches the axes or dimensions of a given tensor."
      ],
      "metadata": {
        "id": "X0OkRxsFetPm"
      }
    },
    {
      "cell_type": "code",
      "source": [
        "tensor_b"
      ],
      "metadata": {
        "colab": {
          "base_uri": "https://localhost:8080/"
        },
        "id": "uw-ikTiVfGIx",
        "outputId": "ec894d4c-e099-4e08-88c1-7912b87d34f6"
      },
      "execution_count": null,
      "outputs": [
        {
          "output_type": "execute_result",
          "data": {
            "text/plain": [
              "tensor([[ 7, 10],\n",
              "        [ 9, 11],\n",
              "        [20, 10]])"
            ]
          },
          "metadata": {},
          "execution_count": 45
        }
      ]
    },
    {
      "cell_type": "code",
      "source": [
        "print(f\"Shape of tensor_b after transposing: {tensor_b.T.shape}\")"
      ],
      "metadata": {
        "colab": {
          "base_uri": "https://localhost:8080/"
        },
        "id": "qbN7PI5WfOt3",
        "outputId": "f06c7c31-44be-4376-fc8f-0ff2bfe34bf3"
      },
      "execution_count": null,
      "outputs": [
        {
          "output_type": "stream",
          "name": "stdout",
          "text": [
            "Shape of tensor_b after transposing: torch.Size([2, 3])\n"
          ]
        }
      ]
    },
    {
      "cell_type": "code",
      "source": [
        "print(f\"Multiplying tensor_a: {tensor_a.shape} and tensor_b: {tensor_b.T.shape}: \")\n",
        "print(f\"Output = {torch.mm(tensor_a, tensor_b.T)}\")\n",
        "print(f\"Shape of the output: {torch.mm(tensor_a, tensor_b.T).shape}\")"
      ],
      "metadata": {
        "colab": {
          "base_uri": "https://localhost:8080/"
        },
        "id": "0Ep9WBD6fQtf",
        "outputId": "3659373a-5186-48e7-e188-92febe2e73f2"
      },
      "execution_count": null,
      "outputs": [
        {
          "output_type": "stream",
          "name": "stdout",
          "text": [
            "Multiplying tensor_a: torch.Size([3, 2]) and tensor_b: torch.Size([2, 3]): \n",
            "Output = tensor([[ 27,  31,  40],\n",
            "        [ 61,  71, 100],\n",
            "        [ 95, 111, 160]])\n",
            "Shape of the output: torch.Size([3, 3])\n"
          ]
        }
      ]
    },
    {
      "cell_type": "code",
      "source": [
        "# Transposing tensor_a instead of tensor_b\n",
        "print(f\"Original shape of tensor_a: {tensor_a.shape}\")\n",
        "print(f\"Shape of tensor_a after transposing: {tensor_a.T.shape}\\n\")\n",
        "\n",
        "print(\"tensor_a @ tensor_b equals: \\n\")\n",
        "print(torch.matmul(tensor_a.T, tensor_b))\n",
        "\n",
        "print(f\"\\nShape of the output: {torch.matmul(tensor_a.T, tensor_b).shape}\")"
      ],
      "metadata": {
        "colab": {
          "base_uri": "https://localhost:8080/"
        },
        "id": "6aF7XnIlfUXM",
        "outputId": "e651c294-c42a-4b51-aee6-69630dd300ae"
      },
      "execution_count": null,
      "outputs": [
        {
          "output_type": "stream",
          "name": "stdout",
          "text": [
            "Original shape of tensor_a: torch.Size([3, 2])\n",
            "Shape of tensor_a after transposing: torch.Size([2, 3])\n",
            "\n",
            "tensor_a @ tensor_b equals: \n",
            "\n",
            "tensor([[134,  93],\n",
            "        [170, 124]])\n",
            "\n",
            "Shape of the output: torch.Size([2, 2])\n"
          ]
        }
      ]
    },
    {
      "cell_type": "markdown",
      "source": [
        "### Tensor aggregation: Finding the min, mean, max, sum, etc"
      ],
      "metadata": {
        "id": "MDCYr_udiYTp"
      }
    },
    {
      "cell_type": "code",
      "source": [
        "x = torch.arange(0, 100, 10)\n",
        "x"
      ],
      "metadata": {
        "colab": {
          "base_uri": "https://localhost:8080/"
        },
        "id": "cfOeJ5g-mukI",
        "outputId": "1228e148-d609-4384-8106-38540444a505"
      },
      "execution_count": null,
      "outputs": [
        {
          "output_type": "execute_result",
          "data": {
            "text/plain": [
              "tensor([ 0, 10, 20, 30, 40, 50, 60, 70, 80, 90])"
            ]
          },
          "metadata": {},
          "execution_count": 49
        }
      ]
    },
    {
      "cell_type": "code",
      "source": [
        "# The torch.mean() requires a tensor with dtype of float32\n",
        "torch.min(x), x.max(), torch.mean(x.type(torch.float32), dtype=torch.float64)"
      ],
      "metadata": {
        "colab": {
          "base_uri": "https://localhost:8080/"
        },
        "id": "b51BnCTJm87K",
        "outputId": "f4eac31c-1ed8-494f-c680-ca49ab6d72a0"
      },
      "execution_count": null,
      "outputs": [
        {
          "output_type": "execute_result",
          "data": {
            "text/plain": [
              "(tensor(0), tensor(90), tensor(45., dtype=torch.float64))"
            ]
          },
          "metadata": {},
          "execution_count": 50
        }
      ]
    },
    {
      "cell_type": "code",
      "source": [
        "# Finding the positional min and positional max -> returns index position of the target tensor\n",
        "torch.argmin(x), torch.argmax(x), x[torch.argmin(x)], x[torch.argmax(x)]"
      ],
      "metadata": {
        "colab": {
          "base_uri": "https://localhost:8080/"
        },
        "id": "Jaq7MLYvnArA",
        "outputId": "4940fb78-eff6-4d07-f6e0-11d2f12b364b"
      },
      "execution_count": null,
      "outputs": [
        {
          "output_type": "execute_result",
          "data": {
            "text/plain": [
              "(tensor(0), tensor(9), tensor(0), tensor(90))"
            ]
          },
          "metadata": {},
          "execution_count": 51
        }
      ]
    },
    {
      "cell_type": "markdown",
      "source": [
        "## Reshaping, Stacking, Squeezing and Unsqueezing tensors\n",
        "\n",
        "* Reshaping - reshapes an input tensor to a defined shape\n",
        "* View - Return a view of an input tensor but keep the same memory as the original tensor\n",
        "* Stacking - Combine multiple tensors on top of each other (vstack) or side-by-side (hstack)\n",
        "* Squeeze - removes all `1` dimensions from a tensor\n",
        "* Unsqueeze - add a `1` dimension to a target tensor\n",
        "* Permute - return a view of the input with dimensions permuted (swapped) in a certain way"
      ],
      "metadata": {
        "id": "4hjEQWDBoY0L"
      }
    },
    {
      "cell_type": "code",
      "source": [
        "x = torch.arange(1., 11.)\n",
        "x, x.shape"
      ],
      "metadata": {
        "colab": {
          "base_uri": "https://localhost:8080/"
        },
        "id": "J5NktoOEq85f",
        "outputId": "dea43e38-92dd-420f-b660-7834b8c951f1"
      },
      "execution_count": null,
      "outputs": [
        {
          "output_type": "execute_result",
          "data": {
            "text/plain": [
              "(tensor([ 1.,  2.,  3.,  4.,  5.,  6.,  7.,  8.,  9., 10.]), torch.Size([10]))"
            ]
          },
          "metadata": {},
          "execution_count": 52
        }
      ]
    },
    {
      "cell_type": "code",
      "source": [
        "#x_reshaped = x.reshape(2, 5)\n",
        "x_reshaped = x.reshape(5, 2)\n",
        "x_reshaped, x_reshaped.shape"
      ],
      "metadata": {
        "colab": {
          "base_uri": "https://localhost:8080/"
        },
        "id": "oRvdn5S-rbwt",
        "outputId": "4fe83f0c-39da-49df-c275-6ea2d03aae57"
      },
      "execution_count": null,
      "outputs": [
        {
          "output_type": "execute_result",
          "data": {
            "text/plain": [
              "(tensor([[ 1.,  2.],\n",
              "         [ 3.,  4.],\n",
              "         [ 5.,  6.],\n",
              "         [ 7.,  8.],\n",
              "         [ 9., 10.]]),\n",
              " torch.Size([5, 2]))"
            ]
          },
          "metadata": {},
          "execution_count": 53
        }
      ]
    },
    {
      "cell_type": "code",
      "source": [
        "# Change the view\n",
        "# A view shares the original memory with the tensor -> changing z changes x\n",
        "z = x.view(1, 10)\n",
        "z, z.shape"
      ],
      "metadata": {
        "colab": {
          "base_uri": "https://localhost:8080/"
        },
        "id": "Fk3564AOsZ9-",
        "outputId": "433df2bc-97df-4c10-e02e-76558e92bf71"
      },
      "execution_count": null,
      "outputs": [
        {
          "output_type": "execute_result",
          "data": {
            "text/plain": [
              "(tensor([[ 1.,  2.,  3.,  4.,  5.,  6.,  7.,  8.,  9., 10.]]),\n",
              " torch.Size([1, 10]))"
            ]
          },
          "metadata": {},
          "execution_count": 54
        }
      ]
    },
    {
      "cell_type": "code",
      "source": [
        "z[:, 0] = 11\n",
        "z, x"
      ],
      "metadata": {
        "id": "4n77OsNhs6I4",
        "colab": {
          "base_uri": "https://localhost:8080/"
        },
        "outputId": "28d4aff0-7a14-4c87-a6bc-938686247588"
      },
      "execution_count": null,
      "outputs": [
        {
          "output_type": "execute_result",
          "data": {
            "text/plain": [
              "(tensor([[11.,  2.,  3.,  4.,  5.,  6.,  7.,  8.,  9., 10.]]),\n",
              " tensor([11.,  2.,  3.,  4.,  5.,  6.,  7.,  8.,  9., 10.]))"
            ]
          },
          "metadata": {},
          "execution_count": 55
        }
      ]
    },
    {
      "cell_type": "code",
      "source": [
        "# Stack tensors on top of each other\n",
        "x_stacked = torch.stack([x,x,x,x], dim=1)\n",
        "x_stacked"
      ],
      "metadata": {
        "colab": {
          "base_uri": "https://localhost:8080/"
        },
        "id": "TqYZd_MfKtU7",
        "outputId": "1c77d709-cadf-4f43-f99c-51497435b057"
      },
      "execution_count": null,
      "outputs": [
        {
          "output_type": "execute_result",
          "data": {
            "text/plain": [
              "tensor([[11., 11., 11., 11.],\n",
              "        [ 2.,  2.,  2.,  2.],\n",
              "        [ 3.,  3.,  3.,  3.],\n",
              "        [ 4.,  4.,  4.,  4.],\n",
              "        [ 5.,  5.,  5.,  5.],\n",
              "        [ 6.,  6.,  6.,  6.],\n",
              "        [ 7.,  7.,  7.,  7.],\n",
              "        [ 8.,  8.,  8.,  8.],\n",
              "        [ 9.,  9.,  9.,  9.],\n",
              "        [10., 10., 10., 10.]])"
            ]
          },
          "metadata": {},
          "execution_count": 56
        }
      ]
    },
    {
      "cell_type": "code",
      "source": [
        "y = torch.zeros(2, 1, 2, 1, 2)\n",
        "print(f\"Shape of y before squeezing: {y.shape}\")\n",
        "y = torch.squeeze(y)\n",
        "print(f\"Shape of y after squeezing: {y.shape}\")"
      ],
      "metadata": {
        "colab": {
          "base_uri": "https://localhost:8080/"
        },
        "id": "M5dwDdgJK-Xf",
        "outputId": "c956f570-4a7e-4c8b-c051-1f808f4f41a1"
      },
      "execution_count": null,
      "outputs": [
        {
          "output_type": "stream",
          "name": "stdout",
          "text": [
            "Shape of y before squeezing: torch.Size([2, 1, 2, 1, 2])\n",
            "Shape of y after squeezing: torch.Size([2, 2, 2])\n"
          ]
        }
      ]
    },
    {
      "cell_type": "code",
      "source": [
        "print(f\"x_reshaped before unsqueezing: {x_reshaped}\")\n",
        "print(f\"Shape of x_reshaped before: {x_reshaped.shape}\\n\")\n",
        "x_reshaped = torch.unsqueeze(x_reshaped, 0)\n",
        "print(f\"\\nx_reshaped after unsqueezing: {x_reshaped}\")\n",
        "print(f\"Shape of x_reshaped after: {x_reshaped.shape}\")"
      ],
      "metadata": {
        "colab": {
          "base_uri": "https://localhost:8080/"
        },
        "id": "YfTYFND0MHVs",
        "outputId": "1105c29c-ab65-4179-c1f7-e01656928931"
      },
      "execution_count": null,
      "outputs": [
        {
          "output_type": "stream",
          "name": "stdout",
          "text": [
            "x_reshaped before unsqueezing: tensor([[11.,  2.],\n",
            "        [ 3.,  4.],\n",
            "        [ 5.,  6.],\n",
            "        [ 7.,  8.],\n",
            "        [ 9., 10.]])\n",
            "Shape of x_reshaped before: torch.Size([5, 2])\n",
            "\n",
            "\n",
            "x_reshaped after unsqueezing: tensor([[[11.,  2.],\n",
            "         [ 3.,  4.],\n",
            "         [ 5.,  6.],\n",
            "         [ 7.,  8.],\n",
            "         [ 9., 10.]]])\n",
            "Shape of x_reshaped after: torch.Size([1, 5, 2])\n"
          ]
        }
      ]
    },
    {
      "cell_type": "code",
      "source": [
        "print(f\"Shape of x_reshaped before: {x_reshaped.shape}\\n\")\n",
        "print(torch.squeeze(x_reshaped))\n",
        "x_reshaped = torch.squeeze(x_reshaped)\n",
        "print(f\"Shape of x_reshaped after: {x_reshaped.shape}\")"
      ],
      "metadata": {
        "colab": {
          "base_uri": "https://localhost:8080/"
        },
        "id": "hcDKP1iMMqiW",
        "outputId": "2e2fa606-5cb6-4b65-f9cd-61abfa6808b9"
      },
      "execution_count": null,
      "outputs": [
        {
          "output_type": "stream",
          "name": "stdout",
          "text": [
            "Shape of x_reshaped before: torch.Size([1, 5, 2])\n",
            "\n",
            "tensor([[11.,  2.],\n",
            "        [ 3.,  4.],\n",
            "        [ 5.,  6.],\n",
            "        [ 7.,  8.],\n",
            "        [ 9., 10.]])\n",
            "Shape of x_reshaped after: torch.Size([5, 2])\n"
          ]
        }
      ]
    },
    {
      "cell_type": "code",
      "source": [
        "# torch.permute - rearranges the dimensions of a target tensor in a specified order\n",
        "\n",
        "z = torch.rand(2, 4, 5)\n",
        "z"
      ],
      "metadata": {
        "colab": {
          "base_uri": "https://localhost:8080/"
        },
        "id": "s-JXHxx3M1_U",
        "outputId": "5b41ec2e-da67-4341-df0e-60207234fbab"
      },
      "execution_count": null,
      "outputs": [
        {
          "output_type": "execute_result",
          "data": {
            "text/plain": [
              "tensor([[[0.5930, 0.9052, 0.9111, 0.3469, 0.8974],\n",
              "         [0.8161, 0.5413, 0.4940, 0.8940, 0.5689],\n",
              "         [0.2071, 0.9022, 0.6076, 0.3267, 0.4344],\n",
              "         [0.9057, 0.8506, 0.2626, 0.4675, 0.1541]],\n",
              "\n",
              "        [[0.5426, 0.5331, 0.2709, 0.3703, 0.2364],\n",
              "         [0.9087, 0.9904, 0.2192, 0.6799, 0.1310],\n",
              "         [0.6254, 0.7380, 0.4091, 0.8553, 0.4952],\n",
              "         [0.9348, 0.8710, 0.2025, 0.3018, 0.6501]]])"
            ]
          },
          "metadata": {},
          "execution_count": 60
        }
      ]
    },
    {
      "cell_type": "code",
      "source": [
        "print(f\"Shape of z before permuting: {z.shape}\\n\")\n",
        "z = torch.permute(z, (1, 0, 2)) # rearranging the the three dimensions ,i.e., 2, 4, 5 in the order 4, 2, 5\n",
        "print(z)\n",
        "print(f\"\\nShape of z after permuting: {z.shape}\")"
      ],
      "metadata": {
        "colab": {
          "base_uri": "https://localhost:8080/"
        },
        "id": "Rh8UnhPyQmY_",
        "outputId": "4a819c5a-6971-4bc4-98c2-f7fce218d0ee"
      },
      "execution_count": null,
      "outputs": [
        {
          "output_type": "stream",
          "name": "stdout",
          "text": [
            "Shape of z before permuting: torch.Size([2, 4, 5])\n",
            "\n",
            "tensor([[[0.5930, 0.9052, 0.9111, 0.3469, 0.8974],\n",
            "         [0.5426, 0.5331, 0.2709, 0.3703, 0.2364]],\n",
            "\n",
            "        [[0.8161, 0.5413, 0.4940, 0.8940, 0.5689],\n",
            "         [0.9087, 0.9904, 0.2192, 0.6799, 0.1310]],\n",
            "\n",
            "        [[0.2071, 0.9022, 0.6076, 0.3267, 0.4344],\n",
            "         [0.6254, 0.7380, 0.4091, 0.8553, 0.4952]],\n",
            "\n",
            "        [[0.9057, 0.8506, 0.2626, 0.4675, 0.1541],\n",
            "         [0.9348, 0.8710, 0.2025, 0.3018, 0.6501]]])\n",
            "\n",
            "Shape of z after permuting: torch.Size([4, 2, 5])\n"
          ]
        }
      ]
    },
    {
      "cell_type": "code",
      "source": [
        "# permuting is commonly used with images\n",
        "x_original = torch.rand(size=(224, 224, 3)) # (height, width, colour channels)\n",
        "print(f\"Previous shape: {x_original.shape}\\n\")\n",
        "# permute the original tensor to rearrange the axis (or dim) order\n",
        "x_permuted = torch.permute(x_original, (1, 2, 0)) # (width, colour channels, height)\n",
        "print(f\"New shape: {x_permuted.shape}\")"
      ],
      "metadata": {
        "colab": {
          "base_uri": "https://localhost:8080/"
        },
        "id": "7JsxV_HfQ7ek",
        "outputId": "59c6ad2d-43a9-4ac9-ab31-4d9ca34fe7ed"
      },
      "execution_count": null,
      "outputs": [
        {
          "output_type": "stream",
          "name": "stdout",
          "text": [
            "Previous shape: torch.Size([224, 224, 3])\n",
            "\n",
            "New shape: torch.Size([224, 3, 224])\n"
          ]
        }
      ]
    },
    {
      "cell_type": "code",
      "source": [
        "x_permuted[0, 0, 0], x_original[0, 0, 0]"
      ],
      "metadata": {
        "colab": {
          "base_uri": "https://localhost:8080/"
        },
        "id": "Kd_0KxOMRwf4",
        "outputId": "db2efc73-c2e4-4408-c4a1-71631ab80f51"
      },
      "execution_count": null,
      "outputs": [
        {
          "output_type": "execute_result",
          "data": {
            "text/plain": [
              "(tensor(0.0158), tensor(0.0158))"
            ]
          },
          "metadata": {},
          "execution_count": 63
        }
      ]
    },
    {
      "cell_type": "code",
      "source": [
        "x_original[0, 0, 0] = 2324\n",
        "x_permuted[0, 0, 0], x_original[0, 0, 0]"
      ],
      "metadata": {
        "colab": {
          "base_uri": "https://localhost:8080/"
        },
        "id": "4x1QuhB9S-0c",
        "outputId": "807ee4ef-4214-46d1-d9de-c8461284a2ae"
      },
      "execution_count": null,
      "outputs": [
        {
          "output_type": "execute_result",
          "data": {
            "text/plain": [
              "(tensor(2324.), tensor(2324.))"
            ]
          },
          "metadata": {},
          "execution_count": 64
        }
      ]
    },
    {
      "cell_type": "markdown",
      "source": [
        "## Indexing(selecting data from tensors)\n",
        "\n",
        "Indexing with pytorch is similar to that done with numpy arrays"
      ],
      "metadata": {
        "id": "cs5MZdeOTQVH"
      }
    },
    {
      "cell_type": "code",
      "source": [
        "x = torch.arange(1, 10).reshape(1, 3, 3)\n",
        "x.shape, x"
      ],
      "metadata": {
        "colab": {
          "base_uri": "https://localhost:8080/"
        },
        "id": "nKlXYnJSUvYV",
        "outputId": "64637f24-9246-4669-822a-be8c3bc9aecf"
      },
      "execution_count": null,
      "outputs": [
        {
          "output_type": "execute_result",
          "data": {
            "text/plain": [
              "(torch.Size([1, 3, 3]),\n",
              " tensor([[[1, 2, 3],\n",
              "          [4, 5, 6],\n",
              "          [7, 8, 9]]]))"
            ]
          },
          "metadata": {},
          "execution_count": 65
        }
      ]
    },
    {
      "cell_type": "code",
      "source": [
        "x[0]"
      ],
      "metadata": {
        "colab": {
          "base_uri": "https://localhost:8080/"
        },
        "id": "yXo4aR1cU7gT",
        "outputId": "5c86f2d0-57de-428c-9c54-3d2213c1c4ff"
      },
      "execution_count": null,
      "outputs": [
        {
          "output_type": "execute_result",
          "data": {
            "text/plain": [
              "tensor([[1, 2, 3],\n",
              "        [4, 5, 6],\n",
              "        [7, 8, 9]])"
            ]
          },
          "metadata": {},
          "execution_count": 66
        }
      ]
    },
    {
      "cell_type": "code",
      "source": [
        "x[:, 0]"
      ],
      "metadata": {
        "colab": {
          "base_uri": "https://localhost:8080/"
        },
        "id": "rbC0ZdVoVSez",
        "outputId": "ebeaf749-e9d0-48db-b9c7-428b1d38db31"
      },
      "execution_count": null,
      "outputs": [
        {
          "output_type": "execute_result",
          "data": {
            "text/plain": [
              "tensor([[1, 2, 3]])"
            ]
          },
          "metadata": {},
          "execution_count": 67
        }
      ]
    },
    {
      "cell_type": "code",
      "source": [
        "x[0, 2, 2]"
      ],
      "metadata": {
        "colab": {
          "base_uri": "https://localhost:8080/"
        },
        "id": "3UeFrGvBVT00",
        "outputId": "ffddcb2c-8c5b-4973-a83c-a93c8a0d95e1"
      },
      "execution_count": null,
      "outputs": [
        {
          "output_type": "execute_result",
          "data": {
            "text/plain": [
              "tensor(9)"
            ]
          },
          "metadata": {},
          "execution_count": 68
        }
      ]
    },
    {
      "cell_type": "code",
      "source": [
        "x[:, 2:, 2:]"
      ],
      "metadata": {
        "colab": {
          "base_uri": "https://localhost:8080/"
        },
        "id": "jb9iY5c9VV2K",
        "outputId": "2533d2b9-d4e7-4a07-bebd-067f1f7fbcbc"
      },
      "execution_count": null,
      "outputs": [
        {
          "output_type": "execute_result",
          "data": {
            "text/plain": [
              "tensor([[[9]]])"
            ]
          },
          "metadata": {},
          "execution_count": 69
        }
      ]
    },
    {
      "cell_type": "code",
      "source": [
        "# get all values of the 0th dimension but only the 1 index value of the 1st and 2nd dimension\n",
        "x[:, 1, 1]"
      ],
      "metadata": {
        "colab": {
          "base_uri": "https://localhost:8080/"
        },
        "id": "kfVfj9h_WhNx",
        "outputId": "32f14261-0044-4f28-d235-f7cc2f5de7ad"
      },
      "execution_count": null,
      "outputs": [
        {
          "output_type": "execute_result",
          "data": {
            "text/plain": [
              "tensor([5])"
            ]
          },
          "metadata": {},
          "execution_count": 70
        }
      ]
    },
    {
      "cell_type": "code",
      "source": [
        "# get index 0 of the 0th and 1st dimension and all values of the 2nd dimension\n",
        "x[0, 0, :]"
      ],
      "metadata": {
        "colab": {
          "base_uri": "https://localhost:8080/"
        },
        "id": "1BjZmCYCXKTK",
        "outputId": "9d1b83b8-742f-4e36-84b1-0a1fb0b36b13"
      },
      "execution_count": null,
      "outputs": [
        {
          "output_type": "execute_result",
          "data": {
            "text/plain": [
              "tensor([1, 2, 3])"
            ]
          },
          "metadata": {},
          "execution_count": 71
        }
      ]
    },
    {
      "cell_type": "code",
      "source": [
        "x"
      ],
      "metadata": {
        "colab": {
          "base_uri": "https://localhost:8080/"
        },
        "id": "5LgTbI0_X8KV",
        "outputId": "d83c25d5-88c0-4d27-a988-e3e5a8bdfd7c"
      },
      "execution_count": null,
      "outputs": [
        {
          "output_type": "execute_result",
          "data": {
            "text/plain": [
              "tensor([[[1, 2, 3],\n",
              "         [4, 5, 6],\n",
              "         [7, 8, 9]]])"
            ]
          },
          "metadata": {},
          "execution_count": 72
        }
      ]
    },
    {
      "cell_type": "code",
      "source": [
        "# select 3, 6, 9\n",
        "x[:, :, 2:]"
      ],
      "metadata": {
        "colab": {
          "base_uri": "https://localhost:8080/"
        },
        "id": "a_FMZmCeYbeL",
        "outputId": "0f7f0744-e322-4a17-9df9-3c9f4a1a2566"
      },
      "execution_count": null,
      "outputs": [
        {
          "output_type": "execute_result",
          "data": {
            "text/plain": [
              "tensor([[[3],\n",
              "         [6],\n",
              "         [9]]])"
            ]
          },
          "metadata": {},
          "execution_count": 73
        }
      ]
    },
    {
      "cell_type": "code",
      "source": [
        "x"
      ],
      "metadata": {
        "colab": {
          "base_uri": "https://localhost:8080/"
        },
        "id": "lohulHZbYjHa",
        "outputId": "2c5978dc-c7cd-4a91-f197-c706a62bf31d"
      },
      "execution_count": null,
      "outputs": [
        {
          "output_type": "execute_result",
          "data": {
            "text/plain": [
              "tensor([[[1, 2, 3],\n",
              "         [4, 5, 6],\n",
              "         [7, 8, 9]]])"
            ]
          },
          "metadata": {},
          "execution_count": 74
        }
      ]
    },
    {
      "cell_type": "markdown",
      "source": [
        "## PyTorch tensors and NumPy\n",
        "\n",
        "* Data in numpy array, want in pytorch tensor -> `torch.from_numpy(ndarray)`\n",
        "* PyTorch tensor -> NumPy -> `torch.Tensor.numpy()`"
      ],
      "metadata": {
        "id": "wMQuhnGvZQIV"
      }
    },
    {
      "cell_type": "code",
      "source": [
        "import numpy as np\n",
        "\n",
        "array = np.arange(1.0, 8.0)\n",
        "tensor = torch.from_numpy(array).type(torch.float32)\n",
        "array, tensor"
      ],
      "metadata": {
        "colab": {
          "base_uri": "https://localhost:8080/"
        },
        "id": "2527p6bfw1iB",
        "outputId": "d59b3d76-5c18-4a00-e64e-6d41e7e5f7d0"
      },
      "execution_count": null,
      "outputs": [
        {
          "output_type": "execute_result",
          "data": {
            "text/plain": [
              "(array([1., 2., 3., 4., 5., 6., 7.]), tensor([1., 2., 3., 4., 5., 6., 7.]))"
            ]
          },
          "metadata": {},
          "execution_count": 89
        }
      ]
    },
    {
      "cell_type": "code",
      "source": [
        "array.dtype, tensor.dtype\n",
        "# when converting from numpy->pytorch, pytorch reflects the default float6 dtype unless specified otherwise"
      ],
      "metadata": {
        "colab": {
          "base_uri": "https://localhost:8080/"
        },
        "id": "trwCpHpnxC8_",
        "outputId": "6fcea2e3-7e22-4479-8339-877d205568c4"
      },
      "execution_count": null,
      "outputs": [
        {
          "output_type": "execute_result",
          "data": {
            "text/plain": [
              "(dtype('float64'), torch.float32)"
            ]
          },
          "metadata": {},
          "execution_count": 90
        }
      ]
    },
    {
      "cell_type": "code",
      "source": [
        "array = array + 1\n",
        "array, tensor"
      ],
      "metadata": {
        "colab": {
          "base_uri": "https://localhost:8080/"
        },
        "id": "0rDEPDvzyDrs",
        "outputId": "f7f457a7-7188-406f-dde6-226558fe74f3"
      },
      "execution_count": null,
      "outputs": [
        {
          "output_type": "execute_result",
          "data": {
            "text/plain": [
              "(array([2., 3., 4., 5., 6., 7., 8.]), tensor([1., 2., 3., 4., 5., 6., 7.]))"
            ]
          },
          "metadata": {},
          "execution_count": 91
        }
      ]
    },
    {
      "cell_type": "code",
      "source": [
        "numpy_tensor = torch.Tensor.numpy(tensor)\n",
        "numpy_tensor # reflects dtype of the pytorch tensor"
      ],
      "metadata": {
        "colab": {
          "base_uri": "https://localhost:8080/"
        },
        "id": "M5YWpMt4yzm7",
        "outputId": "70500516-1000-4785-a86a-ede4f7a9c21a"
      },
      "execution_count": null,
      "outputs": [
        {
          "output_type": "execute_result",
          "data": {
            "text/plain": [
              "array([1., 2., 3., 4., 5., 6., 7.], dtype=float32)"
            ]
          },
          "metadata": {},
          "execution_count": 92
        }
      ]
    },
    {
      "cell_type": "code",
      "source": [
        "tensor = tensor + 1\n",
        "tensor, numpy_tensor"
      ],
      "metadata": {
        "colab": {
          "base_uri": "https://localhost:8080/"
        },
        "id": "LA1VPUtg39U-",
        "outputId": "a15daea1-9fe2-47e9-a653-7e949ff9be4b"
      },
      "execution_count": null,
      "outputs": [
        {
          "output_type": "execute_result",
          "data": {
            "text/plain": [
              "(tensor([3., 4., 5., 6., 7., 8., 9.]),\n",
              " array([1., 2., 3., 4., 5., 6., 7.], dtype=float32))"
            ]
          },
          "metadata": {},
          "execution_count": 94
        }
      ]
    },
    {
      "cell_type": "markdown",
      "source": [
        "## Reproducibility (trying to take random out of random)\n",
        "\n",
        "PyTorch reproducibility refers to the ability to obtain the same results when running your PyTorch code multiple times, given the same input data\n",
        "and model architecture. This is crucial for debugging, comparing experiments, and ensuring the reliability of your research.\n",
        "\n",
        "In short, how a neural network learns:\n",
        "* Start with random numbers\n",
        "* Perform tensor operations\n",
        "* Update random numbers to try and make them better representations of the data\n",
        "* Repeat again and again\n",
        "\n",
        "To reduce the randomness in neural networks and pytorch comes the concept of a **random seed**.\n",
        "\n",
        "Essentially, what the random seed does is \"flavour\" the randomness."
      ],
      "metadata": {
        "id": "CTvIxqofzWMF"
      }
    },
    {
      "cell_type": "code",
      "source": [
        "torch.rand(3, 3) # psuedo randomness or generated randomness"
      ],
      "metadata": {
        "colab": {
          "base_uri": "https://localhost:8080/"
        },
        "id": "che6aykOzDqN",
        "outputId": "b9033b97-90a3-435d-a742-e1df3fb4bb98"
      },
      "execution_count": null,
      "outputs": [
        {
          "output_type": "execute_result",
          "data": {
            "text/plain": [
              "tensor([[0.0763, 0.8194, 0.4481],\n",
              "        [0.6154, 0.6969, 0.0658],\n",
              "        [0.2542, 0.4064, 0.5890]])"
            ]
          },
          "metadata": {},
          "execution_count": 98
        }
      ]
    },
    {
      "cell_type": "code",
      "source": [
        "tensor1 = torch.rand(3, 4)\n",
        "tensor2 = torch.rand(3, 4)\n",
        "print(tensor1, \"\\n\")\n",
        "print(tensor2, \"\\n\")\n",
        "print(tensor1 == tensor2)"
      ],
      "metadata": {
        "colab": {
          "base_uri": "https://localhost:8080/"
        },
        "id": "h31tGV7Y3coS",
        "outputId": "51d61b8c-00ce-483a-9ad2-da8da8fc3f39"
      },
      "execution_count": null,
      "outputs": [
        {
          "output_type": "stream",
          "name": "stdout",
          "text": [
            "tensor([[0.4960, 0.6651, 0.3087, 0.3495],\n",
            "        [0.8657, 0.3253, 0.2600, 0.2177],\n",
            "        [0.0628, 0.2908, 0.6067, 0.3075]]) \n",
            "\n",
            "tensor([[0.7022, 0.6743, 0.8295, 0.6541],\n",
            "        [0.8182, 0.3949, 0.9712, 0.6762],\n",
            "        [0.7666, 0.1628, 0.5573, 0.7967]]) \n",
            "\n",
            "tensor([[False, False, False, False],\n",
            "        [False, False, False, False],\n",
            "        [False, False, False, False]])\n"
          ]
        }
      ]
    },
    {
      "cell_type": "code",
      "source": [
        "# random but reproducible tensors\n",
        "\n",
        "# set the random seed\n",
        "RANDOM_SEED = 42\n",
        "\n",
        "torch.manual_seed(RANDOM_SEED)\n",
        "random_tensor1 = torch.rand(3, 4)\n",
        "\n",
        "torch.manual_seed(RANDOM_SEED)\n",
        "random_tensor2 = torch.rand(3, 4)\n",
        "\n",
        "print(random_tensor1, \"\\n\")\n",
        "print(random_tensor2, \"\\n\")\n",
        "print(random_tensor1 == random_tensor2)"
      ],
      "metadata": {
        "colab": {
          "base_uri": "https://localhost:8080/"
        },
        "id": "HaXMw5o54yXO",
        "outputId": "94133d8b-1bed-42c2-de70-f981cab75668"
      },
      "execution_count": null,
      "outputs": [
        {
          "output_type": "stream",
          "name": "stdout",
          "text": [
            "tensor([[0.8823, 0.9150, 0.3829, 0.9593],\n",
            "        [0.3904, 0.6009, 0.2566, 0.7936],\n",
            "        [0.9408, 0.1332, 0.9346, 0.5936]]) \n",
            "\n",
            "tensor([[0.8823, 0.9150, 0.3829, 0.9593],\n",
            "        [0.3904, 0.6009, 0.2566, 0.7936],\n",
            "        [0.9408, 0.1332, 0.9346, 0.5936]]) \n",
            "\n",
            "tensor([[True, True, True, True],\n",
            "        [True, True, True, True],\n",
            "        [True, True, True, True]])\n"
          ]
        }
      ]
    },
    {
      "cell_type": "markdown",
      "source": [
        "## Running tensors and PyTorch objects on GPUs (and making faster computations)"
      ],
      "metadata": {
        "id": "ohumtc7P5zfL"
      }
    },
    {
      "cell_type": "markdown",
      "source": [
        "### Check for GPU access with pytorch"
      ],
      "metadata": {
        "id": "CVZ8yYxn9wED"
      }
    },
    {
      "cell_type": "code",
      "source": [
        "torch.cuda.is_available()"
      ],
      "metadata": {
        "colab": {
          "base_uri": "https://localhost:8080/"
        },
        "id": "_-bD1aLb_U_Q",
        "outputId": "cd25a114-8b9d-4601-c479-11ceb67939dd"
      },
      "execution_count": null,
      "outputs": [
        {
          "output_type": "execute_result",
          "data": {
            "text/plain": [
              "True"
            ]
          },
          "metadata": {},
          "execution_count": 109
        }
      ]
    },
    {
      "cell_type": "code",
      "source": [
        "# Setup device agnostic code\n",
        "device = \"cuda\" if torch.cuda.is_available() else \"cpu\"\n",
        "device"
      ],
      "metadata": {
        "colab": {
          "base_uri": "https://localhost:8080/",
          "height": 35
        },
        "id": "ereiWgfZ_e1U",
        "outputId": "4abec34d-9753-4c14-c698-ee3af7307720"
      },
      "execution_count": null,
      "outputs": [
        {
          "output_type": "execute_result",
          "data": {
            "text/plain": [
              "'cuda'"
            ],
            "application/vnd.google.colaboratory.intrinsic+json": {
              "type": "string"
            }
          },
          "metadata": {},
          "execution_count": 110
        }
      ]
    },
    {
      "cell_type": "code",
      "source": [
        "# count number of gpus\n",
        "torch.cuda.device_count()"
      ],
      "metadata": {
        "colab": {
          "base_uri": "https://localhost:8080/"
        },
        "id": "VP8xpxdj_0KY",
        "outputId": "056f230f-7d8d-4f58-fe1e-845a27c03c17"
      },
      "execution_count": null,
      "outputs": [
        {
          "output_type": "execute_result",
          "data": {
            "text/plain": [
              "1"
            ]
          },
          "metadata": {},
          "execution_count": 112
        }
      ]
    },
    {
      "cell_type": "markdown",
      "source": [
        "### Putting tensors (and models) on the GPU"
      ],
      "metadata": {
        "id": "QNfCOwRi_6kF"
      }
    },
    {
      "cell_type": "code",
      "source": [
        "tensor = torch.tensor([1, 2, 4], device=\"cpu\") # by default on the CPU\n",
        "print(tensor, tensor.device)"
      ],
      "metadata": {
        "colab": {
          "base_uri": "https://localhost:8080/"
        },
        "id": "eVgbhc1lCi52",
        "outputId": "e49beb3b-be8d-4677-9cb8-2c547629adac"
      },
      "execution_count": null,
      "outputs": [
        {
          "output_type": "stream",
          "name": "stdout",
          "text": [
            "tensor([1, 2, 4]) cpu\n"
          ]
        }
      ]
    },
    {
      "cell_type": "code",
      "source": [
        "# Move tensor to GPU if available\n",
        "tensor = tensor.to(device)\n",
        "print(tensor, tensor.device)"
      ],
      "metadata": {
        "colab": {
          "base_uri": "https://localhost:8080/"
        },
        "id": "N6TjjJkpC3iU",
        "outputId": "bf5c4e00-cd5d-4cf5-9d62-9deaedce8be1"
      },
      "execution_count": null,
      "outputs": [
        {
          "output_type": "stream",
          "name": "stdout",
          "text": [
            "tensor([1, 2, 4], device='cuda:0') cuda:0\n"
          ]
        }
      ]
    },
    {
      "cell_type": "code",
      "source": [
        "# Moving tensors back to the CPU\n",
        "#If tensor is on GPU, you can't transform it to NumPy\n",
        "tensor.numpy()"
      ],
      "metadata": {
        "colab": {
          "base_uri": "https://localhost:8080/",
          "height": 180
        },
        "id": "3kUUQtnLDNrJ",
        "outputId": "3e945444-cf3b-4fcc-c5eb-b4d1470f7d04"
      },
      "execution_count": null,
      "outputs": [
        {
          "output_type": "error",
          "ename": "TypeError",
          "evalue": "can't convert cuda:0 device type tensor to numpy. Use Tensor.cpu() to copy the tensor to host memory first.",
          "traceback": [
            "\u001b[0;31m---------------------------------------------------------------------------\u001b[0m",
            "\u001b[0;31mTypeError\u001b[0m                                 Traceback (most recent call last)",
            "\u001b[0;32m<ipython-input-125-533f4a0bc5bb>\u001b[0m in \u001b[0;36m<cell line: 3>\u001b[0;34m()\u001b[0m\n\u001b[1;32m      1\u001b[0m \u001b[0;31m# Moving tensors back to the CPU\u001b[0m\u001b[0;34m\u001b[0m\u001b[0;34m\u001b[0m\u001b[0m\n\u001b[1;32m      2\u001b[0m \u001b[0;31m#If tensor is on GPU, you can't transform it to NumPy\u001b[0m\u001b[0;34m\u001b[0m\u001b[0;34m\u001b[0m\u001b[0m\n\u001b[0;32m----> 3\u001b[0;31m \u001b[0mtensor\u001b[0m\u001b[0;34m.\u001b[0m\u001b[0mnumpy\u001b[0m\u001b[0;34m(\u001b[0m\u001b[0;34m)\u001b[0m\u001b[0;34m\u001b[0m\u001b[0;34m\u001b[0m\u001b[0m\n\u001b[0m",
            "\u001b[0;31mTypeError\u001b[0m: can't convert cuda:0 device type tensor to numpy. Use Tensor.cpu() to copy the tensor to host memory first."
          ]
        }
      ]
    },
    {
      "cell_type": "code",
      "source": [
        "tensor = tensor.to(\"cpu\")\n",
        "print(tensor.device)\n",
        "tensor.numpy()"
      ],
      "metadata": {
        "colab": {
          "base_uri": "https://localhost:8080/"
        },
        "id": "DYkk52ihEA1S",
        "outputId": "12082e82-8424-4488-e75c-ae09e8e90f37"
      },
      "execution_count": null,
      "outputs": [
        {
          "output_type": "stream",
          "name": "stdout",
          "text": [
            "cpu\n"
          ]
        },
        {
          "output_type": "execute_result",
          "data": {
            "text/plain": [
              "array([1, 2, 4])"
            ]
          },
          "metadata": {},
          "execution_count": 128
        }
      ]
    },
    {
      "cell_type": "code",
      "source": [
        "import torch"
      ],
      "metadata": {
        "id": "gNgeb2GzErHV"
      },
      "execution_count": null,
      "outputs": []
    },
    {
      "cell_type": "code",
      "source": [
        "RANDOM_SEED = 1234\n",
        "\n",
        "torch.manual_seed(RANDOM_SEED)\n",
        "random_tensor1 = torch.rand(7, 7)\n",
        "\n",
        "torch.manual_seed(RANDOM_SEED)\n",
        "random_tensor2 = torch.rand(1, 7)\n",
        "\n",
        "print(\"Random Tensor 1: \\n\", random_tensor1, \"\\n\")\n",
        "print(\"Random Tensor 2: \\n\", random_tensor2, \"\\n\")"
      ],
      "metadata": {
        "id": "-hCjNuOxEsVb",
        "colab": {
          "base_uri": "https://localhost:8080/"
        },
        "outputId": "492a8c06-1e91-4e75-9c9c-8bc9b4926006"
      },
      "execution_count": null,
      "outputs": [
        {
          "output_type": "stream",
          "name": "stdout",
          "text": [
            "Random Tensor 1: \n",
            " tensor([[0.0290, 0.4019, 0.2598, 0.3666, 0.0583, 0.7006, 0.0518],\n",
            "        [0.4681, 0.6738, 0.3315, 0.7837, 0.5631, 0.7749, 0.8208],\n",
            "        [0.2793, 0.6817, 0.2837, 0.6567, 0.2388, 0.7313, 0.6012],\n",
            "        [0.3043, 0.2548, 0.6294, 0.9665, 0.7399, 0.4517, 0.4757],\n",
            "        [0.7842, 0.1525, 0.6662, 0.3343, 0.7893, 0.3216, 0.5247],\n",
            "        [0.6688, 0.8436, 0.4265, 0.9561, 0.0770, 0.4108, 0.0014],\n",
            "        [0.5414, 0.6419, 0.2976, 0.7077, 0.4189, 0.0655, 0.8839]]) \n",
            "\n",
            "Random Tensor 2: \n",
            " tensor([[0.0290, 0.4019, 0.2598, 0.3666, 0.0583, 0.7006, 0.0518]]) \n",
            "\n"
          ]
        }
      ]
    },
    {
      "cell_type": "code",
      "source": [
        "random_tensor2 = torch.transpose(random_tensor2, 0, 1)\n",
        "random_tensor1.shape, random_tensor2.shape"
      ],
      "metadata": {
        "colab": {
          "base_uri": "https://localhost:8080/"
        },
        "id": "fGScE26_ZcRe",
        "outputId": "841a4af8-0d23-4966-d955-7c99ae389223"
      },
      "execution_count": null,
      "outputs": [
        {
          "output_type": "execute_result",
          "data": {
            "text/plain": [
              "(torch.Size([7, 7]), torch.Size([7, 1]))"
            ]
          },
          "metadata": {},
          "execution_count": 28
        }
      ]
    },
    {
      "cell_type": "code",
      "source": [
        "torch.matmul(random_tensor1, random_tensor2)"
      ],
      "metadata": {
        "colab": {
          "base_uri": "https://localhost:8080/"
        },
        "id": "Q9jHjEKkaOZR",
        "outputId": "9153fbbc-8d60-4a15-db1b-8b51b721ae72"
      },
      "execution_count": null,
      "outputs": [
        {
          "output_type": "execute_result",
          "data": {
            "text/plain": [
              "tensor([[0.8613],\n",
              "        [1.2761],\n",
              "        [1.1540],\n",
              "        [1.0134],\n",
              "        [0.6783],\n",
              "        [1.1122],\n",
              "        [0.7266]])"
            ]
          },
          "metadata": {},
          "execution_count": 29
        }
      ]
    },
    {
      "cell_type": "code",
      "source": [
        "torch.manual_seed(RANDOM_SEED)\n",
        "random_tensor3 = torch.rand(2, 3)\n",
        "\n",
        "torch.manual_seed(RANDOM_SEED)\n",
        "random_tensor4 = torch.rand(2, 3)\n",
        "\n",
        "print(\"Random Tensor 3: \\n\", random_tensor3, \"\\n\")\n",
        "print(\"Random Tensor 4: \\n\", random_tensor4, \"\\n\")"
      ],
      "metadata": {
        "colab": {
          "base_uri": "https://localhost:8080/"
        },
        "id": "fLMJ9nQ5ao7T",
        "outputId": "62762ea7-edb8-4cd5-deb5-9bf684208ce0"
      },
      "execution_count": null,
      "outputs": [
        {
          "output_type": "stream",
          "name": "stdout",
          "text": [
            "Random Tensor 3: \n",
            " tensor([[0.0290, 0.4019, 0.2598],\n",
            "        [0.3666, 0.0583, 0.7006]]) \n",
            "\n",
            "Random Tensor 4: \n",
            " tensor([[0.0290, 0.4019, 0.2598],\n",
            "        [0.3666, 0.0583, 0.7006]]) \n",
            "\n"
          ]
        }
      ]
    },
    {
      "cell_type": "code",
      "source": [
        "device = \"cuda\" if torch.cuda.is_available() else \"cpu\"\n",
        "random_tensor3 = random_tensor3.to(device)\n",
        "random_tensor4 = random_tensor4.to(device)\n",
        "\n",
        "random_tensor3.device, random_tensor4.device"
      ],
      "metadata": {
        "colab": {
          "base_uri": "https://localhost:8080/"
        },
        "id": "X-SAqSPNdIqG",
        "outputId": "d2bab89f-5f02-436b-8e04-f8cb1f8db74a"
      },
      "execution_count": null,
      "outputs": [
        {
          "output_type": "execute_result",
          "data": {
            "text/plain": [
              "(device(type='cuda', index=0), device(type='cuda', index=0))"
            ]
          },
          "metadata": {},
          "execution_count": 33
        }
      ]
    },
    {
      "cell_type": "code",
      "source": [
        "random_tensor3.shape, random_tensor4.T.shape"
      ],
      "metadata": {
        "colab": {
          "base_uri": "https://localhost:8080/"
        },
        "id": "m-KXrNDFdz02",
        "outputId": "c1470b42-81ff-45c0-c63a-c70215528d1d"
      },
      "execution_count": null,
      "outputs": [
        {
          "output_type": "execute_result",
          "data": {
            "text/plain": [
              "(torch.Size([2, 3]), torch.Size([3, 2]))"
            ]
          },
          "metadata": {},
          "execution_count": 35
        }
      ]
    },
    {
      "cell_type": "code",
      "source": [
        "random_tensor4 = random_tensor4.T\n",
        "\n",
        "torch.matmul(random_tensor3, random_tensor4)"
      ],
      "metadata": {
        "colab": {
          "base_uri": "https://localhost:8080/"
        },
        "id": "ZKbSoiUweQcX",
        "outputId": "63d9e3a2-450f-4a1f-b34f-f2408e2b33cc"
      },
      "execution_count": null,
      "outputs": [
        {
          "output_type": "execute_result",
          "data": {
            "text/plain": [
              "tensor([[0.2299, 0.2161],\n",
              "        [0.2161, 0.6287]], device='cuda:0')"
            ]
          },
          "metadata": {},
          "execution_count": 36
        }
      ]
    },
    {
      "cell_type": "code",
      "source": [
        "torch.matmul(random_tensor3, random_tensor4).max()"
      ],
      "metadata": {
        "colab": {
          "base_uri": "https://localhost:8080/"
        },
        "id": "WhM66wSMecKx",
        "outputId": "4d0a4fab-56e5-4177-e6f9-a5b874154e76"
      },
      "execution_count": null,
      "outputs": [
        {
          "output_type": "execute_result",
          "data": {
            "text/plain": [
              "tensor(0.6287, device='cuda:0')"
            ]
          },
          "metadata": {},
          "execution_count": 37
        }
      ]
    },
    {
      "cell_type": "code",
      "source": [
        "torch.matmul(random_tensor3, random_tensor4).min()"
      ],
      "metadata": {
        "colab": {
          "base_uri": "https://localhost:8080/"
        },
        "id": "czLHq2HKehwv",
        "outputId": "fd5e467a-738d-4222-c80d-7e1ab9b6724b"
      },
      "execution_count": null,
      "outputs": [
        {
          "output_type": "execute_result",
          "data": {
            "text/plain": [
              "tensor(0.2161, device='cuda:0')"
            ]
          },
          "metadata": {},
          "execution_count": 38
        }
      ]
    },
    {
      "cell_type": "code",
      "source": [
        "torch.matmul(random_tensor3, random_tensor4)[:, 0][1], torch.matmul(random_tensor3, random_tensor4)[:, 1][1]"
      ],
      "metadata": {
        "colab": {
          "base_uri": "https://localhost:8080/"
        },
        "id": "yLQHNrTfejhf",
        "outputId": "7d560e93-2ff2-472e-e11c-3577b757eabc"
      },
      "execution_count": null,
      "outputs": [
        {
          "output_type": "execute_result",
          "data": {
            "text/plain": [
              "(tensor(0.2161, device='cuda:0'), tensor(0.6287, device='cuda:0'))"
            ]
          },
          "metadata": {},
          "execution_count": 42
        }
      ]
    },
    {
      "cell_type": "code",
      "source": [
        "RANDOM_SEED = 7\n",
        "\n",
        "torch.manual_seed(RANDOM_SEED)\n",
        "random_tensor5 = torch.rand(1, 1, 1, 10)\n",
        "\n",
        "torch.manual_seed(RANDOM_SEED)\n",
        "andom_tensor5_copy = torch.squeeze(random_tensor5)\n",
        "\n",
        "random_tensor5_copy.shape, random_tensor5.shape"
      ],
      "metadata": {
        "colab": {
          "base_uri": "https://localhost:8080/"
        },
        "id": "w8eEHb3HfP_n",
        "outputId": "1519e119-24dc-4951-e7be-b8413e99cb8d"
      },
      "execution_count": null,
      "outputs": [
        {
          "output_type": "execute_result",
          "data": {
            "text/plain": [
              "(torch.Size([10]), torch.Size([1, 1, 1, 10]))"
            ]
          },
          "metadata": {},
          "execution_count": 48
        }
      ]
    },
    {
      "cell_type": "code",
      "source": [],
      "metadata": {
        "id": "TxMF4P7ufnMp"
      },
      "execution_count": null,
      "outputs": []
    },
    {
      "cell_type": "code",
      "source": [],
      "metadata": {
        "id": "Pg_EcuuHgbzz"
      },
      "execution_count": null,
      "outputs": []
    }
  ]
}